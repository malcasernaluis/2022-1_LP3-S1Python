{
 "cells": [
  {
   "cell_type": "markdown",
   "id": "1956d3f5",
   "metadata": {},
   "source": [
    "# SEMANA 03\n",
    "Alumno : Serna Malca Luis Alejandro"
   ]
  },
  {
   "cell_type": "markdown",
   "id": "452384aa",
   "metadata": {},
   "source": [
    "Temas "
   ]
  },
  {
   "cell_type": "markdown",
   "id": "eeb5a329",
   "metadata": {},
   "source": [
    "1. Coleccion de datos\n",
    "2. Estructuras Decisivas y Estructuras Repetitivas\n",
    "3. Funciones\n",
    "4. Clases y Objetos"
   ]
  },
  {
   "cell_type": "code",
   "execution_count": 3,
   "id": "dbef2428",
   "metadata": {},
   "outputs": [],
   "source": [
    "# Problema 01:\n",
    "\n",
    "#Crear la siguiente clase:\n",
    "# -Clase: Persona\n",
    "# - Atributos: nombre, apellido , talla , dni"
   ]
  },
  {
   "cell_type": "code",
   "execution_count": 4,
   "id": "1d9a4f82",
   "metadata": {},
   "outputs": [],
   "source": [
    "class Persona:\n",
    "    nombre = \"\"\n",
    "    apellidos = \"\"\n",
    "    dni= \"\"\n",
    "    talla = 0 "
   ]
  },
  {
   "cell_type": "code",
   "execution_count": 5,
   "id": "27ab2525",
   "metadata": {},
   "outputs": [
    {
     "name": "stdout",
     "output_type": "stream",
     "text": [
      "persona1\n",
      "Nombre: Pablo\n",
      "Apellidos: Perez Gonzales\n",
      "dni: 12345678\n",
      "talla: 1.7\n"
     ]
    }
   ],
   "source": [
    "# Creamos un objeto persona1 de la clase Persona() y le asignamos valores\n",
    "#Creacion del objeto personal\n",
    "\n",
    "persona1 = Persona()\n",
    "\n",
    "# Asignamos valores al objeto\n",
    "persona1.nombre = \"Pablo\"\n",
    "persona1.apellidos = \"Perez Gonzales\"\n",
    "persona1.dni = \"12345678\"\n",
    "persona1.talla = 1.7\n",
    "\n",
    "# Para mostrar los valores del objeto :\n",
    "\n",
    "print(\"persona1\")\n",
    "print(f\"Nombre: {persona1.nombre}\")\n",
    "print(f\"Apellidos: {persona1.apellidos}\")\n",
    "print(f\"dni: {persona1.dni}\")\n",
    "print(f\"talla: {persona1.talla}\")\n"
   ]
  },
  {
   "cell_type": "code",
   "execution_count": null,
   "id": "d8ea4f3e",
   "metadata": {},
   "outputs": [],
   "source": []
  }
 ],
 "metadata": {
  "kernelspec": {
   "display_name": "Python 3 (ipykernel)",
   "language": "python",
   "name": "python3"
  },
  "language_info": {
   "codemirror_mode": {
    "name": "ipython",
    "version": 3
   },
   "file_extension": ".py",
   "mimetype": "text/x-python",
   "name": "python",
   "nbconvert_exporter": "python",
   "pygments_lexer": "ipython3",
   "version": "3.9.7"
  }
 },
 "nbformat": 4,
 "nbformat_minor": 5
}
