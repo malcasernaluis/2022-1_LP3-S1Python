{
 "cells": [
  {
   "cell_type": "markdown",
   "id": "55b436fd",
   "metadata": {},
   "source": [
    "# SEMANA 03\n",
    "Alumno : Serna Malca Luis Alejandro"
   ]
  },
  {
   "cell_type": "markdown",
   "id": "f95b5665",
   "metadata": {},
   "source": [
    "Temas "
   ]
  },
  {
   "cell_type": "raw",
   "id": "3afd2d21",
   "metadata": {},
   "source": [
    "1. Coleccion de datos\n",
    "2. Estructuras Decisivas y Estructuras Repetitivas\n",
    "3. Funciones\n",
    "4. Clases y Objetos"
   ]
  },
  {
   "cell_type": "raw",
   "id": "62a00c51",
   "metadata": {},
   "source": [
    "4. Clases y Objetos"
   ]
  },
  {
   "cell_type": "code",
   "execution_count": 3,
   "id": "fbaf8b6a",
   "metadata": {},
   "outputs": [],
   "source": [
    "# Problema 01:\n",
    "\n",
    "#Crear la siguiente clase:\n",
    "# -Clase: Persona\n",
    "# - Atributos: nombre, apellido , talla , dni"
   ]
  },
  {
   "cell_type": "code",
   "execution_count": 4,
   "id": "84186a19",
   "metadata": {},
   "outputs": [],
   "source": [
    "class Persona:\n",
    "    nombre = \"\"\n",
    "    apellidos = \"\"\n",
    "    dni= \"\"\n",
    "    talla = 0 "
   ]
  },
  {
   "cell_type": "code",
   "execution_count": 5,
   "id": "95c6b8ad",
   "metadata": {},
   "outputs": [
    {
     "name": "stdout",
     "output_type": "stream",
     "text": [
      "persona1\n",
      "Nombre: Pablo\n",
      "Apellidos: Perez Gonzales\n",
      "dni: 12345678\n",
      "talla: 1.7\n"
     ]
    }
   ],
   "source": [
    "# Creamos un objeto persona1 de la clase Persona() y le asignamos valores\n",
    "# Creacion del objeto personal\n",
    "\n",
    "persona1 = Persona()\n",
    "\n",
    "# Asignamos valores al objeto\n",
    "persona1.nombre = \"Pablo\"\n",
    "persona1.apellidos = \"Perez Gonzales\"\n",
    "persona1.dni = \"12345678\"\n",
    "persona1.talla = 1.7\n",
    "\n",
    "# Para mostrar los valores del objeto :\n",
    "\n",
    "print(\"persona1\")\n",
    "print(f\"Nombre: {persona1.nombre}\")\n",
    "print(f\"Apellidos: {persona1.apellidos}\")\n",
    "print(f\"dni: {persona1.dni}\")\n",
    "print(f\"talla: {persona1.talla}\")\n"
   ]
  },
  {
   "cell_type": "code",
   "execution_count": 7,
   "id": "1ca1644f",
   "metadata": {},
   "outputs": [],
   "source": [
    "# Para utilizar constructores utilizamos : __init__\n",
    "# ¿Que es un cosntructor ? \n",
    "# - Es un metodo\n",
    "# - Srive para inicializar valores a una clase"
   ]
  },
  {
   "cell_type": "code",
   "execution_count": 8,
   "id": "ad904b2c",
   "metadata": {},
   "outputs": [],
   "source": [
    "# Problema 02:\n",
    "# Crear la siguiente clase y utilizar constructores : \n",
    "# - Clase: Curso\n",
    "# - Atributos: Codigo, Nombre, Horas, Creditos"
   ]
  },
  {
   "cell_type": "code",
   "execution_count": 9,
   "id": "9c666e52",
   "metadata": {},
   "outputs": [],
   "source": [
    "# Solucion\n",
    "class Curso:\n",
    "    def __init__ (self,codigo,nombre,horas,creditos):\n",
    "        self.codigo = codigo\n",
    "        self.nombre = nombre\n",
    "        self.horas = horas\n",
    "        self.creditos = creditos\n",
    "    \n",
    "    def mostrar_datos_curso(self):\n",
    "        print(f\"Curso: {self.nombre}\")\n",
    "        print(f\"Codigo: {self.codigo}\")\n",
    "        print(f\"Horas: {self.horas}\")\n",
    "        print(f\"Creditos: {self.creditos}\")\n",
    "        "
   ]
  },
  {
   "cell_type": "code",
   "execution_count": 13,
   "id": "44c51368",
   "metadata": {},
   "outputs": [],
   "source": [
    "# Creamos el objeto curso1 y le mandamos parámetros\n",
    "\n",
    "curso1 = Curso (\"C0501\" , \"LP3\" , 6 , 3)"
   ]
  },
  {
   "cell_type": "code",
   "execution_count": 12,
   "id": "bf8bb449",
   "metadata": {},
   "outputs": [
    {
     "ename": "SyntaxError",
     "evalue": "invalid syntax (Temp/ipykernel_4668/220565140.py, line 1)",
     "output_type": "error",
     "traceback": [
      "\u001b[1;36m  File \u001b[1;32m\"C:\\Users\\ZONAGA~1\\AppData\\Local\\Temp/ipykernel_4668/220565140.py\"\u001b[1;36m, line \u001b[1;32m1\u001b[0m\n\u001b[1;33m    curso1.motrar_datos_curso():\u001b[0m\n\u001b[1;37m                                ^\u001b[0m\n\u001b[1;31mSyntaxError\u001b[0m\u001b[1;31m:\u001b[0m invalid syntax\n"
     ]
    }
   ],
   "source": [
    "curso1.mostrar_datos_curso"
   ]
  },
  {
   "cell_type": "code",
   "execution_count": null,
   "id": "9a9775f3",
   "metadata": {},
   "outputs": [],
   "source": []
  }
 ],
 "metadata": {
  "kernelspec": {
   "display_name": "Python 3 (ipykernel)",
   "language": "python",
   "name": "python3"
  },
  "language_info": {
   "codemirror_mode": {
    "name": "ipython",
    "version": 3
   },
   "file_extension": ".py",
   "mimetype": "text/x-python",
   "name": "python",
   "nbconvert_exporter": "python",
   "pygments_lexer": "ipython3",
   "version": "3.9.7"
  }
 },
 "nbformat": 4,
 "nbformat_minor": 5
}
